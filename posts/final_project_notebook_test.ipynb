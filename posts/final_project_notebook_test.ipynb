{
 "cells": [
  {
   "cell_type": "markdown",
   "id": "4c0b79a6",
   "metadata": {},
   "source": [
    "---\n",
    "title: \"First File\"\n",
    "description: \"Testing Quarto\"\n",
    "author: \"Your Name\"\n",
    "date: \"07/26/2023\"\n",
    "date-modified: \"07/26/2023\"\n",
    "---"
   ]
  },
  {
   "cell_type": "code",
   "execution_count": null,
   "id": "b44f6d0c",
   "metadata": {},
   "outputs": [],
   "source": []
  }
 ],
 "metadata": {
  "kernelspec": {
   "display_name": "Python 3 (ipykernel)",
   "language": "python",
   "name": "python3"
  },
  "language_info": {
   "codemirror_mode": {
    "name": "ipython",
    "version": 3
   },
   "file_extension": ".py",
   "mimetype": "text/x-python",
   "name": "python",
   "nbconvert_exporter": "python",
   "pygments_lexer": "ipython3",
   "version": "3.10.11"
  }
 },
 "nbformat": 4,
 "nbformat_minor": 5
}
